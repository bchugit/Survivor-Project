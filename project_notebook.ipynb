{
 "cells": [
  {
   "cell_type": "markdown",
   "metadata": {},
   "source": [
    "# Project Notebook"
   ]
  },
  {
   "cell_type": "markdown",
   "metadata": {},
   "source": [
    "The purpose of this notebook is to act as an index to the other notebooks used in this project."
   ]
  },
  {
   "cell_type": "markdown",
   "metadata": {},
   "source": [
    "* <a href=\"wiki_scrape.ipynb\" target=\"_blank\">Wiki Scrape</a>: Scrape voting history from http://survivor.wikia.com/wiki/Main_Page. Output saved in wiki_scrape.p\n",
    "* <a href=\"process_votes.ipynb\" target=\"_blank\">Process Votes</a>: Extract features from voting history. Output saved in process_votes.p\n",
    "* <a href=\"make_graphs.ipynb\" target=\"_blank\">Make Graphs</a>: Create graphs objects from seasons. Output saved in make_graphs.p\n",
    "* <a href=\"network.ipynb\" target=\"_blank\">Network</a>: Explore relationships"
   ]
  },
  {
   "cell_type": "markdown",
   "metadata": {},
   "source": [
    "## Work Flow"
   ]
  },
  {
   "cell_type": "markdown",
   "metadata": {},
   "source": [
    "Details of the following sections can be found in the hyperlinked notebooks."
   ]
  },
  {
   "cell_type": "code",
   "execution_count": 1,
   "metadata": {
    "collapsed": false
   },
   "outputs": [],
   "source": [
    "# Need to force reloading of modules before execution ...\n",
    "%load_ext autoreload\n",
    "%autoreload 2\n",
    "\n",
    "# ... except:\n",
    "%aimport pickle"
   ]
  },
  {
   "cell_type": "code",
   "execution_count": 2,
   "metadata": {
    "collapsed": true
   },
   "outputs": [],
   "source": [
    "# Force everything to be run ...\n",
    "run_all_override = True"
   ]
  },
  {
   "cell_type": "markdown",
   "metadata": {},
   "source": [
    "### Wiki Scrape\n",
    "<a href=\"wiki_scrape.ipynb\" target=\"_blank\">Wiki Scrape</a>: Scrape voting history from http://survivor.wikia.com/wiki/Main_Page."
   ]
  },
  {
   "cell_type": "code",
   "execution_count": 3,
   "metadata": {
    "collapsed": false
   },
   "outputs": [
    {
     "name": "stdout",
     "output_type": "stream",
     "text": [
      "Scraping http://survivor.wikia.com/wiki/Main_Page\n"
     ]
    }
   ],
   "source": [
    "use_wiki_scrape_from_disk = True and not run_all_override\n",
    "\n",
    "if use_wiki_scrape_from_disk:\n",
    "    try:\n",
    "        print \"Loading seasons from disk.\"\n",
    "        seasons = pickle.load( open( \"wiki_scrape.p\", \"rb\" ) )\n",
    "    except IOError:\n",
    "        print \"Error loading from disk.\"\n",
    "        use_wiki_scrape_from_disk = False\n",
    "\n",
    "if not use_wiki_scrape_from_disk:\n",
    "    import wiki_scrape\n",
    "    url = \"http://survivor.wikia.com/wiki/Main_Page\"\n",
    "    print \"Scraping \" + url\n",
    "    seasons = wiki_scrape.scrape(url, save_to_disk=True)"
   ]
  },
  {
   "cell_type": "markdown",
   "metadata": {},
   "source": [
    "### Process Votes\n",
    "<a href=\"process_votes.ipynb\" target=\"_blank\">Process Votes</a>: Extract features from voting history. Output saved in process_votes.p"
   ]
  },
  {
   "cell_type": "code",
   "execution_count": 4,
   "metadata": {
    "collapsed": false
   },
   "outputs": [
    {
     "name": "stdout",
     "output_type": "stream",
     "text": [
      "Processing votes ...\n"
     ]
    }
   ],
   "source": [
    "use_process_votes_from_disk = True and not run_all_override\n",
    "\n",
    "if use_process_votes_from_disk:\n",
    "    try:\n",
    "        print \"Loading voteweights from disk.\"\n",
    "        voteweights = pickle.load( open( \"process_votes.p\", \"rb\" ) )\n",
    "    except IOError:\n",
    "        print \"Error loading from disk.\"\n",
    "        use_process_votes_from_disk = False\n",
    "        \n",
    "if not use_process_votes_from_disk:\n",
    "    import process_votes\n",
    "    print \"Processing votes ...\"\n",
    "    voteweights = process_votes.get_voteweights(seasons, save_to_disk=True)"
   ]
  },
  {
   "cell_type": "markdown",
   "metadata": {},
   "source": [
    "### Make Graphs\n",
    "<a href=\"make_graphs.ipynb\" target=\"_blank\">Make Graphs</a>: Create graphs objects from seasons. Output saved in make_graphs.p"
   ]
  },
  {
   "cell_type": "code",
   "execution_count": 5,
   "metadata": {
    "collapsed": false
   },
   "outputs": [
    {
     "name": "stdout",
     "output_type": "stream",
     "text": [
      "Making graphs\n"
     ]
    }
   ],
   "source": [
    "use_make_graphs_from_disk = True and not run_all_override\n",
    "\n",
    "if use_make_graphs_from_disk:\n",
    "    try:\n",
    "        print \"Loading graphs from disk\"\n",
    "        graphs = pickle.load( open( \"make_graphs.p\", \"rb\" ) )\n",
    "    except IOError:\n",
    "        print \"Error loading from disk\"\n",
    "        use_process_votes_from_disk = False\n",
    "\n",
    "if not use_make_graphs_from_disk:\n",
    "    import make_graphs\n",
    "    print \"Making graphs\"\n",
    "    graphs = make_graphs.make_all_graphs(voteweights)"
   ]
  },
  {
   "cell_type": "markdown",
   "metadata": {},
   "source": [
    "### Network\n",
    "<a href=\"network.ipynb\" target=\"_blank\">Network</a>: Explore relationships"
   ]
  },
  {
   "cell_type": "code",
   "execution_count": 6,
   "metadata": {
    "collapsed": false
   },
   "outputs": [
    {
     "name": "stdout",
     "output_type": "stream",
     "text": [
      "Calculating graph statistics\n"
     ]
    },
    {
     "name": "stderr",
     "output_type": "stream",
     "text": [
      "network.py:39: FutureWarning: sort(columns=....) is deprecated, use sort_values(by=.....)\n",
      "  df = df.sort(['page', 'eig', 'deg'], ascending=[0, 0, 0])\n"
     ]
    }
   ],
   "source": [
    "use_network_from_disk = True and not run_all_override\n",
    "\n",
    "if use_network_from_disk:\n",
    "    try:\n",
    "        print \"Loading graph stats from disk\"\n",
    "        central = pickle.load( open( \"network.p\", \"rb\") )\n",
    "    except IOError:\n",
    "        print \"Error loading from disk\"\n",
    "        use_network_from_disk = False\n",
    "    \n",
    "if not use_network_from_disk:\n",
    "    import network\n",
    "    print \"Calculating graph statistics\"\n",
    "    central = network.get_all_centrality_scores(\n",
    "        voteweights, graphs, save_to_disk=True\n",
    "    )"
   ]
  },
  {
   "cell_type": "markdown",
   "metadata": {},
   "source": [
    "### Episode Scores"
   ]
  },
  {
   "cell_type": "code",
   "execution_count": 7,
   "metadata": {
    "collapsed": false
   },
   "outputs": [
    {
     "name": "stdout",
     "output_type": "stream",
     "text": [
      "Calculating episode scores\n",
      "Palau\n",
      "Tocantins\n",
      "Borneo\n",
      "Panama\n",
      "Cambodia\n",
      "Blood_vs._Water\n",
      "Marquesas\n",
      "Pearl_Islands\n",
      "Vanuatu\n",
      "The_Australian_Outback\n",
      "Heroes_vs_Villains\n",
      "Guatemala\n",
      "China\n",
      "Worlds_Apart\n",
      "Thailand\n",
      "The_Amazon\n",
      "Cagayan\n",
      "South_Pacific\n",
      "One_World\n",
      "Philippines\n",
      "Caramoan\n",
      "Gabon\n",
      "Micronesia\n",
      "Samoa\n",
      "All-Stars\n",
      "Fiji\n",
      "Africa\n",
      "San_Juan_del_Sur\n",
      "Cook_Islands\n",
      "Redemption_Island\n",
      "Nicaragua\n"
     ]
    }
   ],
   "source": [
    "import numpy as np\n",
    "\n",
    "use_episode_scores_from_disk = True and not run_all_override\n",
    "\n",
    "if use_episode_scores_from_disk:\n",
    "    try:\n",
    "        print \"Loading episode scores from disk\"\n",
    "        seasons = pickle.load( open( \"episode_scores.p\", \"rb\") )\n",
    "    except IOError:\n",
    "        print \"Error loading from disk\"\n",
    "        use_episode_scores_from_disk = False\n",
    "\n",
    "if not use_network_from_disk:\n",
    "    import episode_scores\n",
    "    print \"Calculating episode scores\"\n",
    "    n = 8\n",
    "    time_line_prct = [i/n for i in np.arange(n) + 1.]\n",
    "    episode_scores.process_all_seasons(seasons, time_line_prct)\n"
   ]
  },
  {
   "cell_type": "markdown",
   "metadata": {},
   "source": [
    "## Appendix"
   ]
  },
  {
   "cell_type": "code",
   "execution_count": 8,
   "metadata": {
    "collapsed": false
   },
   "outputs": [
    {
     "name": "stdout",
     "output_type": "stream",
     "text": [
      "episode_scores.ipynb\n",
      "episode_scores_bc.ipynb\n",
      "make_graphs.ipynb\n",
      "network.ipynb\n",
      "process_votes.ipynb\n",
      "project_notebook.ipynb\n",
      "wiki_scrape.ipynb\n",
      "\n",
      "episode_scores.p\n",
      "make_graphs.p\n",
      "network.p\n",
      "process_votes.p\n",
      "wiki_scrape.p\n"
     ]
    }
   ],
   "source": [
    "!ls *.ipynb\n",
    "print\n",
    "!ls *.p"
   ]
  },
  {
   "cell_type": "code",
   "execution_count": 9,
   "metadata": {
    "collapsed": true
   },
   "outputs": [],
   "source": [
    "# %load https://gist.github.com/ajp619/7dd388315fc824208654/raw/81be07b0e793208641182032e074dbe39bbfa08e/pyprint\n",
    "def pyprint(myfile):\n",
    "    from pygments import highlight\n",
    "    from pygments.lexers import PythonLexer\n",
    "    from pygments.formatters import HtmlFormatter\n",
    "    import IPython\n",
    "\n",
    "    with open(myfile) as f:\n",
    "        code = f.read()\n",
    "\n",
    "    formatter = HtmlFormatter()\n",
    "    return IPython.display.HTML('<style type=\"text/css\">{}</style>{}'.format(\n",
    "        formatter.get_style_defs('.highlight'),\n",
    "        highlight(code, PythonLexer(), formatter)))"
   ]
  },
  {
   "cell_type": "code",
   "execution_count": 10,
   "metadata": {
    "collapsed": false
   },
   "outputs": [
    {
     "name": "stdout",
     "output_type": "stream",
     "text": [
      "4112\n"
     ]
    }
   ],
   "source": [
    "# %load https://gist.github.com/ajp619/ddaa0f35627b066ef528/raw/cbbd6c6c1cad286ba5a358b93fd94eddede7c4ba/qtutil.py\n",
    "# silly utility to launch a qtconsole if one doesn't exist\n",
    "\n",
    "consoleFlag = True\n",
    "consoleFlag = False  # Turn on/off by commenting/uncommenting this line\n",
    "\n",
    "import psutil\n",
    "\n",
    "def returnPyIDs():\n",
    "    pyids = set()\n",
    "    for pid in psutil.pids():\n",
    "        try:\n",
    "            if \"python\" in psutil.Process(pid).name():\n",
    "                pyids.add(pid)\n",
    "        except:\n",
    "            pass\n",
    "    return pyids\n",
    "\n",
    "def launchConsole():\n",
    "    before_pyids = returnPyIDs()\n",
    "    %qtconsole\n",
    "    after_pyids = returnPyIDs()\n",
    "    newid = after_pyids.difference(before_pyids)\n",
    "    assert len(newid) == 1\n",
    "    return list(newid)[0]\n",
    "\n",
    "try:\n",
    "    print qtid\n",
    "except NameError:\n",
    "    if consoleFlag:\n",
    "        qtid = launchConsole()\n",
    "        print qtid\n",
    "    \n",
    "if consoleFlag and (qtid not in returnPyIDs()):\n",
    "    qtid = launchConsole()\n",
    "    print qtid"
   ]
  }
 ],
 "metadata": {
  "kernelspec": {
   "display_name": "Python 2",
   "language": "python",
   "name": "python2"
  },
  "language_info": {
   "codemirror_mode": {
    "name": "ipython",
    "version": 2
   },
   "file_extension": ".py",
   "mimetype": "text/x-python",
   "name": "python",
   "nbconvert_exporter": "python",
   "pygments_lexer": "ipython2",
   "version": "2.7.11"
  }
 },
 "nbformat": 4,
 "nbformat_minor": 0
}
