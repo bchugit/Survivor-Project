{
 "cells": [
  {
   "cell_type": "markdown",
   "metadata": {},
   "source": [
    "# Survivor Social Networks\n",
    "## Worlds Apart"
   ]
  },
  {
   "cell_type": "code",
   "execution_count": null,
   "metadata": {
    "collapsed": false
   },
   "outputs": [],
   "source": [
    "import graphlab as gl\n",
    "import networkx as nx\n",
    "import matplotlib.pyplot as plt\n",
    "import csv\n",
    "%matplotlib inline"
   ]
  },
  {
   "cell_type": "markdown",
   "metadata": {},
   "source": [
    "## GraphLab overview"
   ]
  },
  {
   "cell_type": "code",
   "execution_count": 2,
   "metadata": {
    "collapsed": false
   },
   "outputs": [
    {
     "name": "stdout",
     "output_type": "stream",
     "text": [
      "PROGRESS: Finished parsing file /Users/bc/Dropbox/CUNY/is620 - web analytics/final project/Survivor/waList.csv\n",
      "PROGRESS: Parsing completed. Parsed 62 lines in 0.040425 secs.\n",
      "PROGRESS: Finished parsing file /Users/bc/Dropbox/CUNY/is620 - web analytics/final project/Survivor/waList.csv\n",
      "PROGRESS: Parsing completed. Parsed 62 lines in 0.017753 secs.\n"
     ]
    }
   ],
   "source": [
    "gvotes = gl.SFrame.read_csv(\"waList.csv\", column_type_hints={'s1':str, 's2':str, 'samevotes':float})"
   ]
  },
  {
   "cell_type": "code",
   "execution_count": 3,
   "metadata": {
    "collapsed": false
   },
   "outputs": [],
   "source": [
    "g = gl.SGraph()\n",
    "g = g.add_edges(gvotes, 's1', 's2')"
   ]
  },
  {
   "cell_type": "code",
   "execution_count": 4,
   "metadata": {
    "collapsed": false
   },
   "outputs": [
    {
     "data": {
      "application/javascript": [
       "$(\"head\").append($(\"<link/>\").attr({\n",
       "  rel:  \"stylesheet\",\n",
       "  type: \"text/css\",\n",
       "  href: \"//cdnjs.cloudflare.com/ajax/libs/font-awesome/4.1.0/css/font-awesome.min.css\"\n",
       "}));\n",
       "$(\"head\").append($(\"<link/>\").attr({\n",
       "  rel:  \"stylesheet\",\n",
       "  type: \"text/css\",\n",
       "  href: \"//dato.com/files/canvas/1.7.1/css/canvas.css\"\n",
       "}));\n",
       "\n",
       "            (function(){\n",
       "\n",
       "                var e = null;\n",
       "                if (typeof element == 'undefined') {\n",
       "                    var scripts = document.getElementsByTagName('script');\n",
       "                    var thisScriptTag = scripts[scripts.length-1];\n",
       "                    var parentDiv = thisScriptTag.parentNode;\n",
       "                    e = document.createElement('div');\n",
       "                    parentDiv.appendChild(e);\n",
       "                } else {\n",
       "                    e = element[0];\n",
       "                }\n",
       "\n",
       "                if (typeof requirejs !== 'undefined') {\n",
       "                    // disable load timeout; ipython_app.js is large and can take a while to load.\n",
       "                    requirejs.config({waitSeconds: 0});\n",
       "                }\n",
       "\n",
       "                require(['//dato.com/files/canvas/1.7.1/js/ipython_app.js'], function(IPythonApp){\n",
       "                    var app = new IPythonApp();\n",
       "                    app.attachView('sgraph','View', {\"edges_labels\": null, \"selected_variable\": {\"name\": [\"g\"], \"view_file\": \"sgraph\", \"view_component\": \"View\", \"view_params\": {\"elabel_hover\": false, \"vertex_positions\": null, \"h_offset\": 0.0, \"node_size\": 300, \"ecolor\": [0.37, 0.33, 0.33], \"elabel\": null, \"arrows\": false, \"ewidth\": 1, \"vlabel\": \"id\", \"highlight_color\": [0.69, 0.0, 0.498], \"vcolor\": [0.522, 0.741, 0.0], \"vlabel_hover\": false, \"highlight\": {}, \"v_offset\": 0.03}, \"view_components\": [\"View\"], \"type\": \"SGraph\", \"descriptives_links\": {\"edges\": \"edges\", \"vertices\": \"vertices\"}, \"descriptives\": {\"edges\": 62, \"vertices\": 18}}, \"positions\": null, \"error_type\": 0, \"vertices\": [\"Mike\", \"Rodney\", \"Vince\", \"Kelly\", \"Max\", \"Jenn\", \"Hali\", \"Joe\", \"Lindsey\", \"Carolyn\", \"Dan\", \"Joaquin\", \"Nina\", \"Shirin\", \"Sierra\", \"So\", \"Tyler\", \"Will\"], \"vertices_labels\": [\"Mike\", \"Rodney\", \"Vince\", \"Kelly\", \"Max\", \"Jenn\", \"Hali\", \"Joe\", \"Lindsey\", \"Carolyn\", \"Dan\", \"Joaquin\", \"Nina\", \"Shirin\", \"Sierra\", \"So\", \"Tyler\", \"Will\"], \"edges\": [[\"Mike\", \"Rodney\"], [\"Rodney\", \"Kelly\"], [\"Mike\", \"Kelly\"], [\"Mike\", \"Joe\"], [\"Rodney\", \"Dan\"], [\"Rodney\", \"Shirin\"], [\"Rodney\", \"Joaquin\"], [\"Mike\", \"Carolyn\"], [\"Mike\", \"Sierra\"], [\"Mike\", \"Dan\"], [\"Mike\", \"Shirin\"], [\"Rodney\", \"Sierra\"], [\"Rodney\", \"Tyler\"], [\"Mike\", \"Will\"], [\"Mike\", \"Tyler\"], [\"Jenn\", \"Kelly\"], [\"Jenn\", \"Joe\"], [\"Jenn\", \"Hali\"], [\"Hali\", \"Kelly\"], [\"Joe\", \"Hali\"], [\"Hali\", \"Nina\"], [\"Carolyn\", \"Rodney\"], [\"Nina\", \"Vince\"], [\"Sierra\", \"Kelly\"], [\"Dan\", \"Kelly\"], [\"Shirin\", \"Max\"], [\"Carolyn\", \"Kelly\"], [\"Carolyn\", \"Max\"], [\"Shirin\", \"Jenn\"], [\"Carolyn\", \"Jenn\"], [\"Sierra\", \"Joe\"], [\"Sierra\", \"Lindsey\"], [\"Dan\", \"Joe\"], [\"Shirin\", \"Joe\"], [\"Shirin\", \"Hali\"], [\"Carolyn\", \"Joe\"], [\"Carolyn\", \"Hali\"], [\"Sierra\", \"Dan\"], [\"Sierra\", \"Shirin\"], [\"Dan\", \"Shirin\"], [\"Carolyn\", \"Sierra\"], [\"Carolyn\", \"Dan\"], [\"Carolyn\", \"Shirin\"], [\"Joaquin\", \"So\"], [\"Sierra\", \"Tyler\"], [\"Dan\", \"Tyler\"], [\"Carolyn\", \"Will\"], [\"Carolyn\", \"Tyler\"], [\"Will\", \"Rodney\"], [\"Tyler\", \"Kelly\"], [\"Tyler\", \"Max\"], [\"Will\", \"Kelly\"], [\"Will\", \"Jenn\"], [\"Tyler\", \"Joe\"], [\"Will\", \"Joe\"], [\"Will\", \"Hali\"], [\"Tyler\", \"Shirin\"], [\"Tyler\", \"Joaquin\"], [\"Will\", \"Sierra\"], [\"Will\", \"Dan\"], [\"Will\", \"Shirin\"], [\"Will\", \"Tyler\"]], \"ipython\": true, \"error_msg\": \"\"}, e);\n",
       "                });\n",
       "            })();\n",
       "        "
      ]
     },
     "metadata": {},
     "output_type": "display_data"
    }
   ],
   "source": [
    "gl.canvas.set_target('ipynb')\n",
    "g.show(vlabel='id')"
   ]
  },
  {
   "cell_type": "markdown",
   "metadata": {},
   "source": [
    "## NetworkX graph stats and centrality measures"
   ]
  },
  {
   "cell_type": "code",
   "execution_count": 5,
   "metadata": {
    "collapsed": false
   },
   "outputs": [],
   "source": [
    "G=nx.Graph()\n",
    "\n",
    "file = open('waList.csv')\n",
    "reader = csv.reader(file)\n",
    "next(reader, None)\n",
    "for row in reader:\n",
    "    G.add_edge(row[0], row[1], weight=int(row[2]))\n",
    "#     print row[2]\n",
    "\n",
    "# G.edges(data=True)"
   ]
  },
  {
   "cell_type": "code",
   "execution_count": 6,
   "metadata": {
    "collapsed": false
   },
   "outputs": [
    {
     "data": {
      "text/plain": [
       "18"
      ]
     },
     "execution_count": 6,
     "metadata": {},
     "output_type": "execute_result"
    }
   ],
   "source": [
    "len(G)"
   ]
  },
  {
   "cell_type": "code",
   "execution_count": 7,
   "metadata": {
    "collapsed": false
   },
   "outputs": [
    {
     "data": {
      "text/plain": [
       "62"
      ]
     },
     "execution_count": 7,
     "metadata": {},
     "output_type": "execute_result"
    }
   ],
   "source": [
    "nx.number_of_edges(G)"
   ]
  },
  {
   "cell_type": "code",
   "execution_count": 8,
   "metadata": {
    "collapsed": false
   },
   "outputs": [
    {
     "data": {
      "text/plain": [
       "6"
      ]
     },
     "execution_count": 8,
     "metadata": {},
     "output_type": "execute_result"
    }
   ],
   "source": [
    "nx.diameter(G)"
   ]
  },
  {
   "cell_type": "code",
   "execution_count": 9,
   "metadata": {
    "collapsed": false
   },
   "outputs": [
    {
     "data": {
      "text/plain": [
       "3"
      ]
     },
     "execution_count": 9,
     "metadata": {},
     "output_type": "execute_result"
    }
   ],
   "source": [
    "nx.radius(G)"
   ]
  },
  {
   "cell_type": "code",
   "execution_count": 10,
   "metadata": {
    "collapsed": false
   },
   "outputs": [],
   "source": [
    "# Sorting function from SNAS pg. 47\n",
    "def sorted_map(map):\n",
    "    ms = sorted(map.iteritems(), key=lambda (k,v): (-v,k))\n",
    "    return ms\n",
    "\n",
    "deg = nx.degree(G)\n",
    "deg = {k:round(v,1) for k, v in deg.items()}\n",
    "deg_sort = sorted_map(deg)\n",
    "# deg_sort"
   ]
  },
  {
   "cell_type": "code",
   "execution_count": 11,
   "metadata": {
    "collapsed": false
   },
   "outputs": [],
   "source": [
    "close = nx.closeness_centrality(G)\n",
    "close = {k:round(v,3) for k, v in close.items()}\n",
    "close_sort = sorted_map(close)\n",
    "# close_sort"
   ]
  },
  {
   "cell_type": "code",
   "execution_count": 12,
   "metadata": {
    "collapsed": false
   },
   "outputs": [],
   "source": [
    "btw = nx.betweenness_centrality(G)\n",
    "btw = {k:round(v,3) for k, v in btw.items()}\n",
    "btw_sort = sorted_map(btw)\n",
    "# btw_sort"
   ]
  },
  {
   "cell_type": "code",
   "execution_count": 13,
   "metadata": {
    "collapsed": false
   },
   "outputs": [],
   "source": [
    "eig = nx.eigenvector_centrality(G)\n",
    "eig = {k:round(v,3) for k, v in eig.items()}\n",
    "eig_sort = sorted_map(eig)\n",
    "# eig_sort"
   ]
  },
  {
   "cell_type": "code",
   "execution_count": 14,
   "metadata": {
    "collapsed": false
   },
   "outputs": [
    {
     "data": {
      "text/html": [
       "<div>\n",
       "<table border=\"1\" class=\"dataframe\">\n",
       "  <thead>\n",
       "    <tr style=\"text-align: right;\">\n",
       "      <th></th>\n",
       "      <th>Name</th>\n",
       "      <th>Degrees</th>\n",
       "      <th>Closeness</th>\n",
       "      <th>Betweenness</th>\n",
       "      <th>Eigenvector</th>\n",
       "    </tr>\n",
       "  </thead>\n",
       "  <tbody>\n",
       "    <tr>\n",
       "      <th>6</th>\n",
       "      <td>Rodney</td>\n",
       "      <td>9</td>\n",
       "      <td>0.607</td>\n",
       "      <td>0.086</td>\n",
       "      <td>0.397</td>\n",
       "    </tr>\n",
       "    <tr>\n",
       "      <th>9</th>\n",
       "      <td>Carolyn</td>\n",
       "      <td>12</td>\n",
       "      <td>0.708</td>\n",
       "      <td>0.088</td>\n",
       "      <td>0.387</td>\n",
       "    </tr>\n",
       "    <tr>\n",
       "      <th>11</th>\n",
       "      <td>Dan</td>\n",
       "      <td>9</td>\n",
       "      <td>0.586</td>\n",
       "      <td>0.003</td>\n",
       "      <td>0.378</td>\n",
       "    </tr>\n",
       "    <tr>\n",
       "      <th>8</th>\n",
       "      <td>Mike</td>\n",
       "      <td>9</td>\n",
       "      <td>0.586</td>\n",
       "      <td>0.003</td>\n",
       "      <td>0.377</td>\n",
       "    </tr>\n",
       "    <tr>\n",
       "      <th>1</th>\n",
       "      <td>Sierra</td>\n",
       "      <td>10</td>\n",
       "      <td>0.607</td>\n",
       "      <td>0.120</td>\n",
       "      <td>0.360</td>\n",
       "    </tr>\n",
       "    <tr>\n",
       "      <th>7</th>\n",
       "      <td>Will</td>\n",
       "      <td>11</td>\n",
       "      <td>0.680</td>\n",
       "      <td>0.053</td>\n",
       "      <td>0.333</td>\n",
       "    </tr>\n",
       "    <tr>\n",
       "      <th>12</th>\n",
       "      <td>Tyler</td>\n",
       "      <td>11</td>\n",
       "      <td>0.654</td>\n",
       "      <td>0.145</td>\n",
       "      <td>0.312</td>\n",
       "    </tr>\n",
       "    <tr>\n",
       "      <th>17</th>\n",
       "      <td>Shirin</td>\n",
       "      <td>11</td>\n",
       "      <td>0.680</td>\n",
       "      <td>0.083</td>\n",
       "      <td>0.164</td>\n",
       "    </tr>\n",
       "    <tr>\n",
       "      <th>5</th>\n",
       "      <td>Kelly</td>\n",
       "      <td>9</td>\n",
       "      <td>0.630</td>\n",
       "      <td>0.050</td>\n",
       "      <td>0.124</td>\n",
       "    </tr>\n",
       "    <tr>\n",
       "      <th>13</th>\n",
       "      <td>Joe</td>\n",
       "      <td>9</td>\n",
       "      <td>0.630</td>\n",
       "      <td>0.036</td>\n",
       "      <td>0.114</td>\n",
       "    </tr>\n",
       "    <tr>\n",
       "      <th>14</th>\n",
       "      <td>Jenn</td>\n",
       "      <td>6</td>\n",
       "      <td>0.515</td>\n",
       "      <td>0.002</td>\n",
       "      <td>0.088</td>\n",
       "    </tr>\n",
       "    <tr>\n",
       "      <th>15</th>\n",
       "      <td>Hali</td>\n",
       "      <td>7</td>\n",
       "      <td>0.548</td>\n",
       "      <td>0.222</td>\n",
       "      <td>0.074</td>\n",
       "    </tr>\n",
       "    <tr>\n",
       "      <th>10</th>\n",
       "      <td>Max</td>\n",
       "      <td>3</td>\n",
       "      <td>0.472</td>\n",
       "      <td>0.000</td>\n",
       "      <td>0.036</td>\n",
       "    </tr>\n",
       "    <tr>\n",
       "      <th>2</th>\n",
       "      <td>Joaquin</td>\n",
       "      <td>3</td>\n",
       "      <td>0.436</td>\n",
       "      <td>0.118</td>\n",
       "      <td>0.025</td>\n",
       "    </tr>\n",
       "    <tr>\n",
       "      <th>3</th>\n",
       "      <td>Lindsey</td>\n",
       "      <td>1</td>\n",
       "      <td>0.386</td>\n",
       "      <td>0.000</td>\n",
       "      <td>0.013</td>\n",
       "    </tr>\n",
       "    <tr>\n",
       "      <th>0</th>\n",
       "      <td>Nina</td>\n",
       "      <td>2</td>\n",
       "      <td>0.378</td>\n",
       "      <td>0.118</td>\n",
       "      <td>0.003</td>\n",
       "    </tr>\n",
       "    <tr>\n",
       "      <th>4</th>\n",
       "      <td>So</td>\n",
       "      <td>1</td>\n",
       "      <td>0.309</td>\n",
       "      <td>0.000</td>\n",
       "      <td>0.001</td>\n",
       "    </tr>\n",
       "    <tr>\n",
       "      <th>16</th>\n",
       "      <td>Vince</td>\n",
       "      <td>1</td>\n",
       "      <td>0.279</td>\n",
       "      <td>0.000</td>\n",
       "      <td>0.000</td>\n",
       "    </tr>\n",
       "  </tbody>\n",
       "</table>\n",
       "</div>"
      ],
      "text/plain": [
       "       Name  Degrees  Closeness  Betweenness  Eigenvector\n",
       "6    Rodney        9      0.607        0.086        0.397\n",
       "9   Carolyn       12      0.708        0.088        0.387\n",
       "11      Dan        9      0.586        0.003        0.378\n",
       "8      Mike        9      0.586        0.003        0.377\n",
       "1    Sierra       10      0.607        0.120        0.360\n",
       "7      Will       11      0.680        0.053        0.333\n",
       "12    Tyler       11      0.654        0.145        0.312\n",
       "17   Shirin       11      0.680        0.083        0.164\n",
       "5     Kelly        9      0.630        0.050        0.124\n",
       "13      Joe        9      0.630        0.036        0.114\n",
       "14     Jenn        6      0.515        0.002        0.088\n",
       "15     Hali        7      0.548        0.222        0.074\n",
       "10      Max        3      0.472        0.000        0.036\n",
       "2   Joaquin        3      0.436        0.118        0.025\n",
       "3   Lindsey        1      0.386        0.000        0.013\n",
       "0      Nina        2      0.378        0.118        0.003\n",
       "4        So        1      0.309        0.000        0.001\n",
       "16    Vince        1      0.279        0.000        0.000"
      ]
     },
     "execution_count": 14,
     "metadata": {},
     "output_type": "execute_result"
    }
   ],
   "source": [
    "# Reference: SNAS pg. 54\n",
    "names1=[x[0] for x in deg_sort]\n",
    "names2=[x[0] for x in close_sort]\n",
    "names3=[x[0] for x in btw_sort]\n",
    "names4=[x[0] for x in eig_sort]\n",
    "\n",
    "# use Python sets to compute a union of the sets \n",
    "names=list(set(names1) | set(names2) | set (names3) | set (names4))\n",
    "\n",
    "## Build a table with centralities \n",
    "table=[[name,deg[name],close[name],btw[name],eig[name]] for name in names]\n",
    "\n",
    "import pandas as pd\n",
    "headers = ['Name', 'Degrees', 'Closeness', 'Betweenness', 'Eigenvector']\n",
    "df = pd.DataFrame(table, columns=headers)\n",
    "df = df.sort(['Eigenvector', 'Degrees'], ascending=[0, 0])\n",
    "df"
   ]
  },
  {
   "cell_type": "markdown",
   "metadata": {},
   "source": [
    "## Weighted graph"
   ]
  },
  {
   "cell_type": "code",
   "execution_count": 15,
   "metadata": {
    "collapsed": false
   },
   "outputs": [],
   "source": [
    "elarge=[(u,v) for (u,v,d) in G.edges(data=True) if d['weight'] >= 5]\n",
    "esmall=[(u,v) for (u,v,d) in G.edges(data=True) if d['weight'] < 5]"
   ]
  },
  {
   "cell_type": "code",
   "execution_count": 16,
   "metadata": {
    "collapsed": false
   },
   "outputs": [
    {
     "data": {
      "image/png": "[encoded data removed]",
      "text/plain": [
       "<matplotlib.figure.Figure at 0x10462a190>"
      ]
     },
     "metadata": {},
     "output_type": "display_data"
    }
   ],
   "source": [
    "plt.figure(figsize=(20,20))\n",
    "pos=nx.spring_layout(G) # positions for all nodes\n",
    "\n",
    "# nodes\n",
    "nx.draw_networkx_nodes(G,pos,node_size=2000)\n",
    "\n",
    "# edges\n",
    "nx.draw_networkx_edges(G,pos,edgelist=elarge,\n",
    "                    width=6)\n",
    "nx.draw_networkx_edges(G,pos,edgelist=esmall,\n",
    "                    width=6,alpha=0.5,edge_color='b',style='dashed')\n",
    "\n",
    "# labels\n",
    "nx.draw_networkx_labels(G,pos,font_size=20,font_family='sans-serif')\n",
    "\n",
    "plt.axis('off')\n",
    "# plt.savefig(\"weighted_graph.png\") # save as png\n",
    "plt.show() # display"
   ]
  }
 ],
 "metadata": {
  "kernelspec": {
   "display_name": "Python 2",
   "language": "python",
   "name": "python2"
  },
  "language_info": {
   "codemirror_mode": {
    "name": "ipython",
    "version": 2
   },
   "file_extension": ".py",
   "mimetype": "text/x-python",
   "name": "python",
   "nbconvert_exporter": "python",
   "pygments_lexer": "ipython2",
   "version": "2.7.9"
  }
 },
 "nbformat": 4,
 "nbformat_minor": 0
}
