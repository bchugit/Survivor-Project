{
 "cells": [
  {
   "cell_type": "markdown",
   "metadata": {},
   "source": [
    "# Project Notebook"
   ]
  },
  {
   "cell_type": "markdown",
   "metadata": {},
   "source": [
    "The purpose of this notebook is to act as an index to the other notebooks used in this project."
   ]
  },
  {
   "cell_type": "markdown",
   "metadata": {},
   "source": [
    "* <a href=\"wiki_scrape.ipynb\" target=\"_blank\">Wiki Scrape</a>: Scrape voting history from http://survivor.wikia.com/wiki/Main_Page. Output saved in wiki_scrape.p\n",
    "* <a href=\"process_votes.ipynb\" target=\"_blank\">Process Votes</a>: Extract features from voting history. Output saved in process_votes.p\n",
    "* <a href=\"make_graphs.ipynb\" target=\"_blank\">Make Graphs</a>: Create graphs objects from seasons. Output saved in make_graphs.p\n",
    "* <a href=\"network.ipynb\" target=\"_blank\">Network</a>: Explore relationships"
   ]
  },
  {
   "cell_type": "code",
   "execution_count": 20,
   "metadata": {
    "collapsed": false
   },
   "outputs": [
    {
     "name": "stdout",
     "output_type": "stream",
     "text": [
      "borneo.ipynb\n",
      "make_graphs.ipynb\n",
      "network.ipynb\n",
      "process_votes.ipynb\n",
      "project_notebook.ipynb\n",
      "wa.ipynb\n",
      "wiki_scrape.ipynb\n",
      "\n",
      "make_graphs.p\n",
      "process_votes.p\n",
      "wiki_scrape.p\n"
     ]
    }
   ],
   "source": [
    "!ls *.ipynb\n",
    "print\n",
    "!ls *.p"
   ]
  },
  {
   "cell_type": "markdown",
   "metadata": {},
   "source": [
    "Can use something like the cell below to execute notebooks, but there are some issues with the cell magics that launch qtconsoles. Should probably save the notebooks with the qtconsole flags to false.\n",
    "\n",
    "Uncomment to use"
   ]
  },
  {
   "cell_type": "markdown",
   "metadata": {},
   "source": [
    "The following cell executes and creates html output for the given notebooks. This is a good way to make sure all saved variables are up to date."
   ]
  },
  {
   "cell_type": "code",
   "execution_count": 21,
   "metadata": {
    "collapsed": false
   },
   "outputs": [
    {
     "name": "stderr",
     "output_type": "stream",
     "text": [
      "[NbConvertApp] Converting notebook wiki_scrape.ipynb to html\n",
      "[NbConvertApp] Executing notebook with kernel: python2\n",
      "[NbConvertApp] Writing 486936 bytes to wiki_scrape.html\n",
      "[NbConvertApp] Converting notebook process_votes.ipynb to html\n",
      "[NbConvertApp] Executing notebook with kernel: python2\n",
      "[NbConvertApp] Writing 216238 bytes to process_votes.html\n",
      "[NbConvertApp] Converting notebook make_graphs.ipynb to html\n",
      "[NbConvertApp] Executing notebook with kernel: python2\n",
      "[NbConvertApp] Writing 205133 bytes to make_graphs.html\n",
      "[NbConvertApp] Converting notebook network.ipynb to html\n",
      "[NbConvertApp] Executing notebook with kernel: python2\n",
      "[NbConvertApp] Writing 267540 bytes to network.html\n"
     ]
    }
   ],
   "source": [
    "# launchConsole flags should be set to false\n",
    "!ipython nbconvert --to html --execute wiki_scrape.ipynb\n",
    "!ipython nbconvert --to html --execute process_votes.ipynb\n",
    "!ipython nbconvert --to html --execute make_graphs.ipynb\n",
    "!ipython nbconvert --to html --execute network.ipynb\n"
   ]
  }
 ],
 "metadata": {
  "kernelspec": {
   "display_name": "Python 2",
   "language": "python",
   "name": "python2"
  },
  "language_info": {
   "codemirror_mode": {
    "name": "ipython",
    "version": 2
   },
   "file_extension": ".py",
   "mimetype": "text/x-python",
   "name": "python",
   "nbconvert_exporter": "python",
   "pygments_lexer": "ipython2",
   "version": "2.7.10"
  }
 },
 "nbformat": 4,
 "nbformat_minor": 0
}
